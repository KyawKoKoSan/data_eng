{
 "cells": [
  {
   "cell_type": "markdown",
   "metadata": {},
   "source": [
    "# E-commerce Data Analysis\n",
    "\n",
    "This notebook demonstrates the process of extracting, transforming, and analyzing data from a mock e-commerce platform using MySQL and Spark. I will perform the following steps:\n",
    "1. Extract data from CSV files.\n",
    "2. Load data into MySQL and Spark.\n",
    "3. Transform the data.\n",
    "4. Analyze the data to gain insights.\n",
    "5. Visualize the results.\n"
   ]
  },
  {
   "cell_type": "code",
   "execution_count": 33,
   "metadata": {
    "vscode": {
     "languageId": "plaintext"
    }
   },
   "outputs": [],
   "source": [
    "# Import necessary libraries\n",
    "import mysql.connector\n",
    "import pandas as pd\n",
    "from pyspark.sql import SparkSession\n",
    "from pyspark.sql.functions import col, to_date, date_format, avg, sum\n",
    "import matplotlib.pyplot as plt"
   ]
  },
  {
   "cell_type": "markdown",
   "metadata": {},
   "source": [
    "## Data Extraction and Loading\n",
    "\n",
    "This section covers the extraction and loading of data into MySQL and Spark.\n"
   ]
  },
  {
   "cell_type": "code",
   "execution_count": 34,
   "metadata": {
    "vscode": {
     "languageId": "plaintext"
    }
   },
   "outputs": [
    {
     "name": "stdout",
     "output_type": "stream",
     "text": [
      "CSV files created.\n"
     ]
    }
   ],
   "source": [
    "# Create mock data\n",
    "users_data = {\n",
    "    'user_id': [1, 2, 3],\n",
    "    'name': ['John Doe', 'Jane Smith', 'Emily Davis'],\n",
    "    'signup_date': ['2023-01-15', '2023-02-20', '2023-03-10']\n",
    "}\n",
    "\n",
    "products_data = {\n",
    "    'product_id': [101, 102, 103],\n",
    "    'product_name': ['Widget A', 'Widget B', 'Gadget C'],\n",
    "    'category': ['Electronics', 'Home', 'Electronics'],\n",
    "    'price': [19.99, 9.99, 29.99]\n",
    "}\n",
    "\n",
    "orders_data = {\n",
    "    'order_id': [1001, 1002, 1003],\n",
    "    'user_id': [1, 2, 1],\n",
    "    'product_id': [101, 102, 103],\n",
    "    'quantity': [2, 1, 1],\n",
    "    'order_date': ['2023-04-01', '2023-04-03', '2023-04-04']\n",
    "}\n",
    "\n",
    "# Convert to DataFrames\n",
    "users_df = pd.DataFrame(users_data)\n",
    "products_df = pd.DataFrame(products_data)\n",
    "orders_df = pd.DataFrame(orders_data)\n",
    "\n",
    "# Save to CSV\n",
    "users_df.to_csv('users.csv', index=False)\n",
    "products_df.to_csv('products.csv', index=False)\n",
    "orders_df.to_csv('orders.csv', index=False)\n",
    "\n",
    "print(\"CSV files created.\")\n"
   ]
  },
  {
   "cell_type": "code",
   "execution_count": 35,
   "metadata": {
    "vscode": {
     "languageId": "plaintext"
    }
   },
   "outputs": [
    {
     "name": "stdout",
     "output_type": "stream",
     "text": [
      "Data loaded into MySQL.\n"
     ]
    }
   ],
   "source": [
    "# Connect to MySQL server\n",
    "conn = mysql.connector.connect(\n",
    "    host=\"localhost\",\n",
    "    user=\"root\"\n",
    ")\n",
    "\n",
    "cursor = conn.cursor()\n",
    "\n",
    "# Create the ecommerce database\n",
    "cursor.execute(\"CREATE DATABASE IF NOT EXISTS ecommerce\")\n",
    "\n",
    "# Close the initial connection\n",
    "cursor.close()\n",
    "conn.close()\n",
    "\n",
    "# Reconnect to the newly created ecommerce database\n",
    "conn = mysql.connector.connect(\n",
    "    host=\"localhost\",\n",
    "    user=\"root\",\n",
    "    database=\"ecommerce\"\n",
    ")\n",
    "\n",
    "cursor = conn.cursor()\n",
    "\n",
    "# Create tables\n",
    "cursor.execute(\"\"\"\n",
    "CREATE TABLE IF NOT EXISTS users (\n",
    "    user_id INT PRIMARY KEY,\n",
    "    name VARCHAR(100),\n",
    "    signup_date DATETIME\n",
    ")\n",
    "\"\"\")\n",
    "\n",
    "cursor.execute(\"\"\"\n",
    "CREATE TABLE IF NOT EXISTS products (\n",
    "    product_id INT PRIMARY KEY,\n",
    "    product_name VARCHAR(100),\n",
    "    category VARCHAR(50),\n",
    "    price FLOAT\n",
    ")\n",
    "\"\"\")\n",
    "\n",
    "cursor.execute(\"\"\"\n",
    "CREATE TABLE IF NOT EXISTS orders (\n",
    "    order_id INT PRIMARY KEY,\n",
    "    user_id INT,\n",
    "    product_id INT,\n",
    "    quantity INT,\n",
    "    order_date DATETIME,\n",
    "    FOREIGN KEY (user_id) REFERENCES users(user_id),\n",
    "    FOREIGN KEY (product_id) REFERENCES products(product_id)\n",
    ")\n",
    "\"\"\")\n",
    "\n",
    "# Load CSV data into DataFrames\n",
    "users_df = pd.read_csv('users.csv')\n",
    "products_df = pd.read_csv('products.csv')\n",
    "orders_df = pd.read_csv('orders.csv')\n",
    "\n",
    "# Insert data into MySQL tables\n",
    "for index, row in users_df.iterrows():\n",
    "    cursor.execute(\"INSERT INTO users (user_id, name, signup_date) VALUES (%s, %s, %s)\", tuple(row))\n",
    "\n",
    "for index, row in products_df.iterrows():\n",
    "    cursor.execute(\"INSERT INTO products (product_id, product_name, category, price) VALUES (%s, %s, %s, %s)\", tuple(row))\n",
    "\n",
    "for index, row in orders_df.iterrows():\n",
    "    cursor.execute(\"INSERT INTO orders (order_id, user_id, product_id, quantity, order_date) VALUES (%s, %s, %s, %s, %s)\", tuple(row))\n",
    "\n",
    "# Commit and close connection\n",
    "conn.commit()\n",
    "cursor.close()\n",
    "conn.close()\n",
    "\n",
    "print(\"Data loaded into MySQL.\")"
   ]
  },
  {
   "cell_type": "code",
   "execution_count": 36,
   "metadata": {},
   "outputs": [
    {
     "name": "stdout",
     "output_type": "stream",
     "text": [
      "Data loaded into Spark.\n",
      "+-------+-----------+-----------+\n",
      "|user_id|       name|signup_date|\n",
      "+-------+-----------+-----------+\n",
      "|      1|   John Doe| 2023-01-15|\n",
      "|      2| Jane Smith| 2023-02-20|\n",
      "|      3|Emily Davis| 2023-03-10|\n",
      "+-------+-----------+-----------+\n",
      "\n",
      "+----------+------------+-----------+-----+\n",
      "|product_id|product_name|   category|price|\n",
      "+----------+------------+-----------+-----+\n",
      "|       101|    Widget A|Electronics|19.99|\n",
      "|       102|    Widget B|       Home| 9.99|\n",
      "|       103|    Gadget C|Electronics|29.99|\n",
      "+----------+------------+-----------+-----+\n",
      "\n",
      "+--------+-------+----------+--------+----------+\n",
      "|order_id|user_id|product_id|quantity|order_date|\n",
      "+--------+-------+----------+--------+----------+\n",
      "|    1001|      1|       101|       2|2023-04-01|\n",
      "|    1002|      2|       102|       1|2023-04-03|\n",
      "|    1003|      1|       103|       1|2023-04-04|\n",
      "+--------+-------+----------+--------+----------+\n",
      "\n"
     ]
    }
   ],
   "source": [
    "# Initialize Spark session\n",
    "spark = SparkSession.builder \\\n",
    "    .appName(\"EcommerceData\") \\\n",
    "    .getOrCreate()\n",
    "\n",
    "# Load data into Spark DataFrames\n",
    "users_df = spark.read.csv('users.csv', header=True, inferSchema=True)\n",
    "products_df = spark.read.csv('products.csv', header=True, inferSchema=True)\n",
    "orders_df = spark.read.csv('orders.csv', header=True, inferSchema=True)\n",
    "print(\"Data loaded into Spark.\")\n",
    "\n",
    "\n",
    "# Show the data\n",
    "users_df.show()\n",
    "products_df.show()\n",
    "orders_df.show()\n"
   ]
  },
  {
   "cell_type": "markdown",
   "metadata": {},
   "source": [
    "## Data Transformation\n",
    "\n",
    "This section covers the transformation of data in MySQL and Spark.\n"
   ]
  },
  {
   "cell_type": "code",
   "execution_count": 37,
   "metadata": {
    "vscode": {
     "languageId": "plaintext"
    }
   },
   "outputs": [
    {
     "name": "stdout",
     "output_type": "stream",
     "text": [
      "Data transformation in MySQL completed.\n"
     ]
    }
   ],
   "source": [
    "# Reconnect to MySQL\n",
    "conn = mysql.connector.connect(\n",
    "    host=\"localhost\",\n",
    "    user=\"root\",\n",
    "    database=\"ecommerce\"\n",
    ")\n",
    "\n",
    "cursor = conn.cursor()\n",
    "\n",
    "# Convert date columns\n",
    "cursor.execute(\"ALTER TABLE users MODIFY signup_date DATETIME\")\n",
    "cursor.execute(\"ALTER TABLE orders MODIFY order_date DATETIME\")\n",
    "\n",
    "# Calculate total price\n",
    "cursor.execute(\"ALTER TABLE orders ADD COLUMN total_price FLOAT\")\n",
    "cursor.execute(\"\"\"\n",
    "UPDATE orders o\n",
    "JOIN products p ON o.product_id = p.product_id\n",
    "SET o.total_price = o.quantity * p.price\n",
    "\"\"\")\n",
    "\n",
    "# Filter orders\n",
    "cursor.execute(\"DELETE FROM orders WHERE total_price < 5\")\n",
    "\n",
    "# Commit changes and close connection\n",
    "conn.commit()\n",
    "cursor.close()\n",
    "conn.close()\n",
    "\n",
    "print(\"Data transformation in MySQL completed.\")\n"
   ]
  },
  {
   "cell_type": "code",
   "execution_count": 38,
   "metadata": {
    "vscode": {
     "languageId": "plaintext"
    }
   },
   "outputs": [
    {
     "name": "stdout",
     "output_type": "stream",
     "text": [
      "+----------+--------+-------+--------+----------+------------+-----------+-----+-----------+\n",
      "|product_id|order_id|user_id|quantity|order_date|product_name|   category|price|total_price|\n",
      "+----------+--------+-------+--------+----------+------------+-----------+-----+-----------+\n",
      "|       101|    1001|      1|       2|2023-04-01|    Widget A|Electronics|19.99|      39.98|\n",
      "|       102|    1002|      2|       1|2023-04-03|    Widget B|       Home| 9.99|       9.99|\n",
      "|       103|    1003|      1|       1|2023-04-04|    Gadget C|Electronics|29.99|      29.99|\n",
      "+----------+--------+-------+--------+----------+------------+-----------+-----+-----------+\n",
      "\n"
     ]
    }
   ],
   "source": [
    "# Convert date columns\n",
    "users_df = users_df.withColumn(\"signup_date\", to_date(col(\"signup_date\"), \"yyyy-MM-dd\"))\n",
    "orders_df = orders_df.withColumn(\"order_date\", to_date(col(\"order_date\"), \"yyyy-MM-dd\"))\n",
    "\n",
    "# Calculate total price\n",
    "orders_df = orders_df.join(products_df, \"product_id\") \\\n",
    "    .withColumn(\"total_price\", col(\"quantity\") * col(\"price\"))\n",
    "\n",
    "# Filter orders\n",
    "orders_df = orders_df.filter(col(\"total_price\") >= 5)\n",
    "\n",
    "orders_df.show()\n"
   ]
  },
  {
   "cell_type": "markdown",
   "metadata": {},
   "source": [
    "## Data Analysis\n",
    "\n",
    "This section covers the analysis of data in MySQL and Spark.\n"
   ]
  },
  {
   "cell_type": "code",
   "execution_count": 39,
   "metadata": {
    "vscode": {
     "languageId": "plaintext"
    }
   },
   "outputs": [
    {
     "name": "stdout",
     "output_type": "stream",
     "text": [
      "Average total price per month: [('2023-04', 26.65333302815755)]\n",
      "Top 5 users by total spending: [('John Doe', 69.96999931335449), ('Jane Smith', 9.989999771118164)]\n",
      "Distribution of order quantities: [(1, 2), (2, 1)]\n"
     ]
    }
   ],
   "source": [
    "# Reconnect to MySQL\n",
    "conn = mysql.connector.connect(\n",
    "    host=\"localhost\",\n",
    "    user=\"root\",\n",
    "    database=\"ecommerce\"\n",
    ")\n",
    "\n",
    "cursor = conn.cursor()\n",
    "\n",
    "# Average total price per month\n",
    "cursor.execute(\"\"\"\n",
    "SELECT DATE_FORMAT(order_date, '%Y-%m') AS month, AVG(total_price) AS avg_total_price\n",
    "FROM orders\n",
    "GROUP BY month\n",
    "\"\"\")\n",
    "avg_price_per_month = cursor.fetchall()\n",
    "print(\"Average total price per month:\", avg_price_per_month)\n",
    "\n",
    "# Top 5 users by total spending\n",
    "cursor.execute(\"\"\"\n",
    "SELECT u.name, SUM(o.total_price) AS total_spending\n",
    "FROM orders o\n",
    "JOIN users u ON o.user_id = u.user_id\n",
    "GROUP BY u.user_id\n",
    "ORDER BY total_spending DESC\n",
    "LIMIT 5\n",
    "\"\"\")\n",
    "top_users = cursor.fetchall()\n",
    "print(\"Top 5 users by total spending:\", top_users)\n",
    "\n",
    "# Distribution of order quantities\n",
    "cursor.execute(\"\"\"\n",
    "SELECT quantity, COUNT(*) AS frequency\n",
    "FROM orders\n",
    "GROUP BY quantity\n",
    "ORDER BY quantity\n",
    "\"\"\")\n",
    "order_quantity_distribution = cursor.fetchall()\n",
    "print(\"Distribution of order quantities:\", order_quantity_distribution)\n",
    "\n",
    "cursor.close()\n",
    "conn.close()\n"
   ]
  },
  {
   "cell_type": "code",
   "execution_count": 40,
   "metadata": {
    "vscode": {
     "languageId": "plaintext"
    }
   },
   "outputs": [
    {
     "data": {
      "image/png": "[encoded data removed]",
      "text/plain": [
       "<Figure size 640x480 with 1 Axes>"
      ]
     },
     "metadata": {},
     "output_type": "display_data"
    }
   ],
   "source": [
    "\n",
    "# Convert the result to a DataFrame for visualization\n",
    "order_quantity_distribution_df = pd.DataFrame(order_quantity_distribution, columns=['Quantity', 'Frequency'])\n",
    "\n",
    "# Plot the histogram\n",
    "plt.bar(order_quantity_distribution_df['Quantity'], order_quantity_distribution_df['Frequency'])\n",
    "plt.xlabel('Order Quantity')\n",
    "plt.ylabel('Frequency')\n",
    "plt.title('Distribution of Order Quantities')\n",
    "plt.xticks(order_quantity_distribution_df['Quantity'])\n",
    "plt.show()\n"
   ]
  },
  {
   "cell_type": "code",
   "execution_count": 41,
   "metadata": {},
   "outputs": [
    {
     "name": "stdout",
     "output_type": "stream",
     "text": [
      "+-------+------------------+\n",
      "|  month|   avg_total_price|\n",
      "+-------+------------------+\n",
      "|2023-04|26.653333333333332|\n",
      "+-------+------------------+\n",
      "\n",
      "+-------+--------------+\n",
      "|user_id|total_spending|\n",
      "+-------+--------------+\n",
      "|      1|         69.97|\n",
      "|      2|          9.99|\n",
      "+-------+--------------+\n",
      "\n"
     ]
    },
    {
     "data": {
      "image/png": "[encoded data removed]",
      "text/plain": [
       "<Figure size 640x480 with 1 Axes>"
      ]
     },
     "metadata": {},
     "output_type": "display_data"
    }
   ],
   "source": [
    "# Average total price per month\n",
    "avg_price_per_month = orders_df.groupBy(date_format(\"order_date\", \"yyyy-MM\").alias(\"month\")) \\\n",
    "    .agg(avg(\"total_price\").alias(\"avg_total_price\"))\n",
    "avg_price_per_month.show()\n",
    "\n",
    "# Top 5 users by total spending\n",
    "top_users = orders_df.groupBy(\"user_id\") \\\n",
    "    .agg(sum(\"total_price\").alias(\"total_spending\")) \\\n",
    "    .orderBy(\"total_spending\", ascending=False) \\\n",
    "    .limit(5)\n",
    "top_users.show()\n",
    "\n",
    "# Distribution of order quantities\n",
    "order_quantity_distribution = orders_df.groupBy(\"quantity\") \\\n",
    "    .count() \\\n",
    "    .orderBy(\"quantity\") \\\n",
    "    .toPandas()  # Convert Spark DataFrame to Pandas DataFrame\n",
    "\n",
    "\n",
    "# Plot the histogram\n",
    "plt.bar(order_quantity_distribution['quantity'], order_quantity_distribution_df['Frequency'])\n",
    "plt.xlabel('Order Quantity')\n",
    "plt.ylabel('Frequency')\n",
    "plt.title('Distribution of Order Quantities')\n",
    "plt.xticks(order_quantity_distribution_df['Quantity'])\n",
    "plt.show()"
   ]
  },
  {
   "cell_type": "markdown",
   "metadata": {},
   "source": [
    "## Data Integration and Aggregation\n",
    "\n",
    "This section covers data integration, aggregation, and additional calculations using PySpark.\n"
   ]
  },
  {
   "cell_type": "code",
   "execution_count": 42,
   "metadata": {},
   "outputs": [
    {
     "name": "stdout",
     "output_type": "stream",
     "text": [
      "+----------+-------------------+\n",
      "|product_id|discount_percentage|\n",
      "+----------+-------------------+\n",
      "|       101|                 10|\n",
      "|       102|                 15|\n",
      "|       103|                 20|\n",
      "+----------+-------------------+\n",
      "\n",
      "+----------+--------+-------+--------+----------+------------+-----------+-----+-----------+-------------------+----------------+------------------+\n",
      "|product_id|order_id|user_id|quantity|order_date|product_name|   category|price|total_price|discount_percentage|discounted_price|            profit|\n",
      "+----------+--------+-------+--------+----------+------------+-----------+-----+-----------+-------------------+----------------+------------------+\n",
      "|       101|    1001|      1|       2|2023-04-01|    Widget A|Electronics|19.99|      39.98|                 10|          35.982|3.9979999999999976|\n",
      "|       102|    1002|      2|       1|2023-04-03|    Widget B|       Home| 9.99|       9.99|                 15|          8.4915|            1.4985|\n",
      "|       103|    1003|      1|       1|2023-04-04|    Gadget C|Electronics|29.99|      29.99|                 20|          23.992|5.9979999999999976|\n",
      "+----------+--------+-------+--------+----------+------------+-----------+-----+-----------+-------------------+----------------+------------------+\n",
      "\n"
     ]
    }
   ],
   "source": [
    "# Create and Load Discount Data\n",
    "discounts_data = {\n",
    "    'product_id': [101, 102, 103],\n",
    "    'discount_percentage': [10, 15, 20]\n",
    "}\n",
    "discounts_df = pd.DataFrame(discounts_data)\n",
    "discounts_df.to_csv('discount.csv', index=False)\n",
    "\n",
    "# Load discount data into Spark DataFrame\n",
    "discounts_df = spark.read.csv('discount.csv', header=True, inferSchema=True)\n",
    "discounts_df.show()\n",
    "\n",
    "# Enrich orders data with discounts\n",
    "orders_df = orders_df.join(discounts_df, \"product_id\", \"left\") \\\n",
    "    .withColumn(\"discount_percentage\", expr(\"coalesce(discount_percentage, 0)\")) \\\n",
    "    .withColumn(\"discounted_price\", col(\"total_price\") * (1 - col(\"discount_percentage\") / 100)) \\\n",
    "    .withColumn(\"profit\", col(\"total_price\") - col(\"discounted_price\"))\n",
    "\n",
    "orders_df.show()\n"
   ]
  },
  {
   "cell_type": "markdown",
   "metadata": {},
   "source": [
    "## SQL and Spark Optimization Techniques\n",
    "\n",
    "This section covers optimization strategies for MySQL and Spark.\n",
    "\n",
    "### MySQL Optimization:\n",
    "\n",
    "- **Indexing**: Created indexes on the following columns of the `orders` table:\n",
    "  - `idx_user_id` on `user_id`: Optimizes queries related to user-specific data, such as total spending.\n",
    "  - `idx_order_date` on `order_date`: Improves performance for date-based queries, like calculating monthly averages.\n",
    "\n",
    "### Spark Optimization:\n",
    "\n",
    "- **Caching**: Cached the `orders_df` DataFrame in memory to enhance performance for repeated computations and multiple actions.\n",
    "\n",
    "- **Partitioning**: Repartitioned `orders_df` based on `order_date` to enable parallel processing and minimize data shuffling during operations.\n",
    "\n",
    "These optimizations are designed to improve query efficiency and leverage the strengths of each platform for effective data analysis in an e-commerce context.\n"
   ]
  },
  {
   "cell_type": "code",
   "execution_count": 43,
   "metadata": {},
   "outputs": [
    {
     "name": "stdout",
     "output_type": "stream",
     "text": [
      "MySQL optimization completed.\n"
     ]
    }
   ],
   "source": [
    "# Reconnect to MySQL\n",
    "conn = mysql.connector.connect(\n",
    "    host=\"localhost\",\n",
    "    user=\"root\",\n",
    "    database=\"ecommerce\"\n",
    ")\n",
    "\n",
    "cursor = conn.cursor()\n",
    "\n",
    "# Create indexes\n",
    "cursor.execute(\"CREATE INDEX idx_user_id ON orders(user_id)\")\n",
    "cursor.execute(\"CREATE INDEX idx_order_date ON orders(order_date)\")\n",
    "\n",
    "cursor.close()\n",
    "conn.close()\n",
    "print(\"MySQL optimization completed.\")"
   ]
  },
  {
   "cell_type": "code",
   "execution_count": 44,
   "metadata": {},
   "outputs": [
    {
     "name": "stdout",
     "output_type": "stream",
     "text": [
      "+----------+--------+-------+--------+----------+------------+-----------+-----+-----------+-------------------+----------------+------------------+\n",
      "|product_id|order_id|user_id|quantity|order_date|product_name|   category|price|total_price|discount_percentage|discounted_price|            profit|\n",
      "+----------+--------+-------+--------+----------+------------+-----------+-----+-----------+-------------------+----------------+------------------+\n",
      "|       101|    1001|      1|       2|2023-04-01|    Widget A|Electronics|19.99|      39.98|                 10|          35.982|3.9979999999999976|\n",
      "|       103|    1003|      1|       1|2023-04-04|    Gadget C|Electronics|29.99|      29.99|                 20|          23.992|5.9979999999999976|\n",
      "|       102|    1002|      2|       1|2023-04-03|    Widget B|       Home| 9.99|       9.99|                 15|          8.4915|            1.4985|\n",
      "+----------+--------+-------+--------+----------+------------+-----------+-----+-----------+-------------------+----------------+------------------+\n",
      "\n",
      "Spark caching completed.\n"
     ]
    }
   ],
   "source": [
    "# Caching\n",
    "orders_df.cache()\n",
    "\n",
    "# Partitioning\n",
    "orders_df = orders_df.repartition(\"order_date\")\n",
    "\n",
    "orders_df.show()\n",
    "print(\"Spark caching completed.\")"
   ]
  }
 ],
 "metadata": {
  "kernelspec": {
   "display_name": "Python 3 (ipykernel)",
   "language": "python",
   "name": "python3"
  },
  "language_info": {
   "codemirror_mode": {
    "name": "ipython",
    "version": 3
   },
   "file_extension": ".py",
   "mimetype": "text/x-python",
   "name": "python",
   "nbconvert_exporter": "python",
   "pygments_lexer": "ipython3",
   "version": "3.11.4"
  }
 },
 "nbformat": 4,
 "nbformat_minor": 4
}
